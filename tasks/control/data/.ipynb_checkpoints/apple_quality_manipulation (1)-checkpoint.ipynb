{
 "cells": [
  {
   "cell_type": "code",
   "execution_count": null,
   "id": "8c6e03e1",
   "metadata": {},
   "outputs": [],
   "source": [
    "import pandas as pd"
   ]
  },
  {
   "cell_type": "markdown",
   "id": "a9f0de57",
   "metadata": {},
   "source": [
    "# apple_quality dataset adjustment"
   ]
  },
  {
   "cell_type": "markdown",
   "id": "45b54260",
   "metadata": {},
   "source": [
    "## data adaptation"
   ]
  },
  {
   "cell_type": "code",
   "execution_count": null,
   "id": "b25a851a",
   "metadata": {},
   "outputs": [],
   "source": [
    "apple_quality = pd.read_csv(\"apple_quality.csv\", nrows=4000, usecols=[2, 3, 4, 5, 7])\n",
    "apple_quality = apple_quality.astype({col: int for col in apple_quality.columns})\n",
    "\n",
    "apple_quality[\"Quality\"] = (\n",
    "    (apple_quality['Weight'] * apple_quality[\"Sweetness\"])\n",
    "    + apple_quality[\"Crunchiness\"]\n",
    "    + apple_quality[\"Juiciness\"]\n",
    "    - apple_quality[\"Acidity\"]\n",
    ")\n",
    "apple_quality.columns = map(str.lower, apple_quality.columns)"
   ]
  },
  {
   "cell_type": "code",
   "execution_count": null,
   "id": "f90d6956",
   "metadata": {},
   "outputs": [],
   "source": [
    "apple_quality.to_csv(\"apple_quality.csv\")"
   ]
  },
  {
   "cell_type": "markdown",
   "id": "86c1bfc6",
   "metadata": {},
   "source": [
    "# possible quality measurement "
   ]
  },
  {
   "cell_type": "markdown",
   "id": "e95d4e0a",
   "metadata": {},
   "source": [
    "## divition to \"train\" and \"prod\""
   ]
  },
  {
   "cell_type": "code",
   "execution_count": null,
   "id": "7ae5fc31",
   "metadata": {},
   "outputs": [],
   "source": [
    "import csv\n",
    "import struct\n",
    "\n",
    "def csv_to_binary(csv_file, binary_file):\n",
    "    with open(csv_file, 'r') as f:\n",
    "        reader = csv.reader(f)\n",
    "        next(reader) #skip the header line\n",
    "        with open(binary_file, 'wb') as bf:\n",
    "            for row in reader:\n",
    "                # Assuming each row contains integers\n",
    "                binary_data = struct.pack('i' * len(row), *map(int, row))\n",
    "                bf.write(binary_data)\n",
    "                bf.write(b'\\n')\n",
    "\n",
    "# Example usage:\n",
    "csv_to_binary('apple_quality.csv', 'orders.bin')"
   ]
  },
  {
   "cell_type": "code",
   "execution_count": null,
   "id": "10c3b1f6",
   "metadata": {},
   "outputs": [],
   "source": [
    "import csv\n",
    "import struct\n",
    "\n",
    "def binary_to_csv(binary_file):\n",
    "    with open(binary_file, 'rb') as bf:\n",
    "        for l in bf.readlines():\n",
    "            if l != b'\\n':\n",
    "                values = []\n",
    "                for i in range(0, len(l)-4, 4):\n",
    "                    v = struct.unpack('i', l[i: i+4])\n",
    "                    values += v  # Unpack the binary data\n",
    "                print(values)\n",
    "\n",
    "# Example usage:\n",
    "binary_to_csv('orders.bin')\n"
   ]
  },
  {
   "cell_type": "code",
   "execution_count": null,
   "id": "6fdb80aa",
   "metadata": {},
   "outputs": [],
   "source": []
  },
  {
   "cell_type": "code",
   "execution_count": null,
   "id": "d526704d",
   "metadata": {},
   "outputs": [],
   "source": []
  },
  {
   "cell_type": "code",
   "execution_count": null,
   "id": "6c8d94ea",
   "metadata": {},
   "outputs": [],
   "source": []
  },
  {
   "cell_type": "code",
   "execution_count": null,
   "id": "3774b550",
   "metadata": {},
   "outputs": [],
   "source": []
  }
 ],
 "metadata": {
  "kernelspec": {
   "display_name": "Python 3 (ipykernel)",
   "language": "python",
   "name": "python3"
  },
  "language_info": {
   "codemirror_mode": {
    "name": "ipython",
    "version": 3
   },
   "file_extension": ".py",
   "mimetype": "text/x-python",
   "name": "python",
   "nbconvert_exporter": "python",
   "pygments_lexer": "ipython3",
   "version": "3.10.13"
  }
 },
 "nbformat": 4,
 "nbformat_minor": 5
}
